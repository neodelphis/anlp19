{
 "cells": [
  {
   "cell_type": "markdown",
   "metadata": {},
   "source": [
    "OCR'd texts present special challenges to tokenization.  Consider this selection from an OCR'd version of Darwin's Origin of Species from the [Internet Archive](https://archive.org/download/originofspecies00darwuoft/originofspecies00darwuoft_djvu.txt):\n",
    "\n",
    "```\n",
    "the inhabitants of the surrounding districts will, also, be thus\n",
    "prevented. Moritz Wagner has lately published an interest-\n",
    "ing essay on this subject, and has shown that the service\n",
    "rendered by isolation in preventing crosses between newly-\n",
    "formed varieties is probably greater even than I supposed.\n",
    "But from reasons already assigned I can by no means agree\n",
    "with this naturalist, that migration and isolation are neces-\n",
    "sary elements for the formation of new species. The im-\n",
    "portance of isolation is likewise great in preventing, after\n",
    "any physical change in the conditions such as of climate ele-\n",
    "vation of the land, &c., the immigration of better adapted or-\n",
    "ganisms; and thus new places in the natural economy of the\n",
    "district will be left open to be filled up by the modification of\n",
    "the old inhabitants. Lastly, isolation will give time for a\n",
    "new variety to be improved at a slow rate ; and this may\n",
    "```\n",
    "\n",
    "Here the printing convention of line-break hyphenization would, under a standard tokenizer, generate incorrect tokens like `interest-ing` (or perhaps `interest-` and `ing`).  Design a better tokenizer (even just using pre- and post-processing) for these texts.  Note here the correct tokenization of `interest-ing` is `interesting` but the correct tokenization for `newly-formed` is still `newly-formed`.\n",
    "\n",
    "For a more thorough library for handling OCR'd book data, see https://github.com/tedunderwood/DataMunging\n"
   ]
  },
  {
   "cell_type": "code",
   "execution_count": 1,
   "metadata": {},
   "outputs": [],
   "source": [
    "import sys, nltk, re"
   ]
  },
  {
   "cell_type": "code",
   "execution_count": 8,
   "metadata": {},
   "outputs": [],
   "source": [
    "def read_text(filename):\n",
    "    lines=[]\n",
    "    with open(filename) as file:\n",
    "        for line in file:\n",
    "            lines.append(line.rstrip())\n",
    "    return lines\n",
    "\n",
    "def read_tex_2(filename):\n",
    "    with open(filename) as file:\n",
    "        lines = [line.rstrip() for line in file]\n",
    "    return lines"
   ]
  },
  {
   "cell_type": "code",
   "execution_count": 9,
   "metadata": {},
   "outputs": [],
   "source": [
    "filename=\"../data/darwin_origin_ia.txt\""
   ]
  },
  {
   "cell_type": "code",
   "execution_count": 11,
   "metadata": {},
   "outputs": [],
   "source": [
    "lines=read_tex_2(filename)"
   ]
  },
  {
   "cell_type": "code",
   "execution_count": 20,
   "metadata": {},
   "outputs": [],
   "source": [
    "testText=\"\"\"the inhabitants of the surrounding districts will, also, be thus\n",
    "prevented. Moritz Wagner has lately published an interest-\n",
    "ing essay on this subject, and has shown that the service\n",
    "rendered by isolation in preventing crosses between newly-\n",
    "formed varieties is probably greater even than I supposed.\n",
    "But from reasons already assigned I can by no means agree\n",
    "with this naturalist, that migration and isolation are neces-\n",
    "sary elements for the formation of new species. The im-\n",
    "portance of isolation is likewise great in preventing, after\n",
    "any physical change in the conditions such as of climate ele-\n",
    "vation of the land, &c., the immigration of better adapted or-\n",
    "ganisms; and thus new places in the natural economy of the\n",
    "district will be left open to be filled up by the modification of\n",
    "the old inhabitants. Lastly, isolation will give time for a\n",
    "new variety to be improved at a slow rate ; and this may\"\"\""
   ]
  },
  {
   "cell_type": "code",
   "execution_count": 16,
   "metadata": {},
   "outputs": [
    {
     "name": "stderr",
     "output_type": "stream",
     "text": [
      "[nltk_data] Downloading package brown to\n",
      "[nltk_data]     /Users/pierrejaumier/nltk_data...\n",
      "[nltk_data]   Unzipping corpora/brown.zip.\n"
     ]
    }
   ],
   "source": [
    "# Dictionnaire de mots anglais\n",
    "nltk.download('brown')\n",
    "from nltk.corpus import brown"
   ]
  },
  {
   "cell_type": "code",
   "execution_count": 17,
   "metadata": {},
   "outputs": [
    {
     "data": {
      "text/plain": [
       "False"
      ]
     },
     "execution_count": 17,
     "metadata": {},
     "output_type": "execute_result"
    }
   ],
   "source": [
    "\"interest-ing\" in brown.words()"
   ]
  },
  {
   "cell_type": "code",
   "execution_count": 18,
   "metadata": {},
   "outputs": [
    {
     "data": {
      "text/plain": [
       "True"
      ]
     },
     "execution_count": 18,
     "metadata": {},
     "output_type": "execute_result"
    }
   ],
   "source": [
    "\"natural\" in brown.words()"
   ]
  },
  {
   "cell_type": "code",
   "execution_count": 22,
   "metadata": {},
   "outputs": [
    {
     "data": {
      "text/plain": [
       "['interest-\\ning',\n",
       " 'newly-\\nformed',\n",
       " 'neces-\\nsary',\n",
       " 'im-\\nportance',\n",
       " 'ele-\\nvation',\n",
       " 'or-\\nganisms;']"
      ]
     },
     "execution_count": 22,
     "metadata": {},
     "output_type": "execute_result"
    }
   ],
   "source": [
    "# Expression régulière pour trouver les tirets en fin de ligne https://regexr.com/\n",
    "import re\n",
    "pattern = re.compile(r'\\S*-\\n\\S*')\n",
    "items = pattern.findall(testText)\n",
    "items"
   ]
  },
  {
   "cell_type": "code",
   "execution_count": 63,
   "metadata": {},
   "outputs": [
    {
     "data": {
      "text/plain": [
       "['interesting',\n",
       " 'newly-formed',\n",
       " 'necessary',\n",
       " 'importance',\n",
       " 'elevation',\n",
       " 'organisms;']"
      ]
     },
     "execution_count": 63,
     "metadata": {},
     "output_type": "execute_result"
    }
   ],
   "source": [
    "tokenized_words = []\n",
    "for item in items:\n",
    "    left_word, right_word = tuple(item.split('-\\n'))\n",
    "    if left_word in brown.words() and right_word in brown.words():\n",
    "        # keep it as word with hyphen\n",
    "        tokenized_word = left_word + '-' + right_word\n",
    "    else:\n",
    "        # remove hyphen\n",
    "        tokenized_word = left_word + right_word\n",
    "    tokenized_words.append(tokenized_word)\n",
    "        \n",
    "tokenized_words"
   ]
  },
  {
   "cell_type": "code",
   "execution_count": null,
   "metadata": {},
   "outputs": [],
   "source": []
  }
 ],
 "metadata": {
  "kernelspec": {
   "display_name": "Python 3",
   "language": "python",
   "name": "python3"
  },
  "language_info": {
   "codemirror_mode": {
    "name": "ipython",
    "version": 3
   },
   "file_extension": ".py",
   "mimetype": "text/x-python",
   "name": "python",
   "nbconvert_exporter": "python",
   "pygments_lexer": "ipython3",
   "version": "3.7.7"
  }
 },
 "nbformat": 4,
 "nbformat_minor": 2
}
